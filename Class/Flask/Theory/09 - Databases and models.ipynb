{
 "cells": [
  {
   "cell_type": "markdown",
   "metadata": {},
   "source": [
    "# Databases & Models"
   ]
  },
  {
   "cell_type": "markdown",
   "metadata": {},
   "source": [
    "## SQL or NoSQL ? \n",
    "There are great choices for databases in Python, and most of them with flask integration.<br>\n",
    "They can be separated into two big groups: SQL and NoSQL.<br>\n",
    "<br>\n",
    "Basically, __SQL__ is a better match for application with structured data (list of users, blogs..) while __NoSQL__ tend to be better for less defined structure."
   ]
  },
  {
   "cell_type": "markdown",
   "metadata": {},
   "source": [
    "***\n",
    "## Databases "
   ]
  },
  {
   "cell_type": "markdown",
   "metadata": {},
   "source": [
    "A lot of databases exist, every database has his own pros and cons, some are better for really big databases, some other for little sites..<br>\n",
    "`MySQL` is relatively easy to use and to configure since it only needs a single file to store a db."
   ]
  },
  {
   "cell_type": "markdown",
   "metadata": {},
   "source": [
    "***\n",
    "## ORM\n",
    "Using database queries is low-level work, and some higher level extensions are available in Python to make our life easier.<br>\n",
    "__ORM__, or *Object Relational Mapping* is a technique that alows us to convert data from database to objects.<br><br>\n",
    "\n",
    "__ORMs__ will create a virtual database as an object in python, thus the data will also be represented as objects.<br>\n",
    "<br>\n",
    "\n",
    "We are going to use *SQLAlchemy* ORM, which can support a long list of database engines, like MySQL, PostgreSQL and SQLite. <br>\n",
    "<Br>\n",
    "The same code will work no matter which database engine you're using, and __this is very powerful.__\n",
    "<br>\n",
    "<br>\n",
    "A wrapper for SQLAlchemy exist for flask, it's called `flask-sqlalchemy`. To install it, use pip. \n",
    "\n"
   ]
  },
  {
   "cell_type": "markdown",
   "metadata": {},
   "source": [
    "***\n",
    "## Migration\n",
    "Relational database (SQL) needs to be structured, thus we need to update the database everytime we change something in its structure.\n",
    "> *Changing his structure doesn't mean adding some data, but adding/deleting a table.*\n",
    "\n",
    "Updating database structure is called *migration*, a good migration framework in python is <a href=\"https://bitbucket.org/zzzeek/alembic\">Alembic</a>, the flask wrapper is called `flask-migrate`."
   ]
  },
  {
   "cell_type": "markdown",
   "metadata": {},
   "source": [
    "> *Reminder: flask_sqlalchemy is the database manager and flask_migrate is the migration manager*"
   ]
  },
  {
   "cell_type": "markdown",
   "metadata": {},
   "source": [
    "***\n",
    "# Code\n",
    "\n",
    "## Configuring Flask-SQLAlchemy\n",
    "We need to add some configuration to our app to define the implementation of `flask_sqlalchemy`.<br><br>\n",
    "\n",
    "The main configuration is the database uri (the location of the database). <br>\n",
    "This is defined by `app.config['SQLALCHEMY_DATABASE_URI']`.<br>\n",
    "*In the `__init__.py`:*"
   ]
  },
  {
   "cell_type": "code",
   "execution_count": null,
   "metadata": {
    "scrolled": true
   },
   "outputs": [],
   "source": [
    "import os \n",
    "basedir = os.path.abspath(os.path.dirname(__file__)) # Try to avoid hardcoding paths, use os\n",
    "\n",
    "app.config['SQLALCHEMY_DATABASE_URI'] = 'sqlite:///'+os.path.join(basedir, 'app.db')\n",
    "# This line is adding sqlite:/// with the path of your database"
   ]
  },
  {
   "cell_type": "markdown",
   "metadata": {},
   "source": [
    "***\n",
    "## Create a database object \n",
    "\n",
    "A database is a virtual object, it can be created with the class `flask_sqlalchemy.SQLAlchemy`.<br>\n",
    "Migration is also a virtual object, that is part of the `flask_migrate.Migrate` class.<br>\n",
    "*In the `__init__.py`:*"
   ]
  },
  {
   "cell_type": "code",
   "execution_count": null,
   "metadata": {},
   "outputs": [],
   "source": [
    "import flask\n",
    "import flask_sqlalchemy\n",
    "import flask_migrate\n",
    "import os \n",
    "\n",
    "basedir = os.path.abspath(os.path.dirname(__file__))\n",
    "\n",
    "app = flask.Flask(__name__)\n",
    "\n",
    "app.config['SQLALCHEMY_DATABASE_URI'] = 'sqlite:///'+os.path.join(basedir, 'app.db')\n",
    "\n",
    "db      = flask_sqlalchemy.SQLAlchemy(app)\n",
    "migrate = flask_migrate.Migrate(app, db)\n",
    "\n",
    "from app import routes"
   ]
  },
  {
   "cell_type": "markdown",
   "metadata": {},
   "source": [
    "***\n",
    "## Database models\n",
    "\n",
    "In ORM, tables are called models, a model represent a class of data. <br>\n",
    "To visualize your database, you can use the <a href=\"https://ondras.zarovi.cz/sql/demo/\">SQL Designer</a> tool.<br>\n",
    "Every model should inherit from the `flask_sqlalchemy.SQLAlchemy().Model` class, which can be accessed from your object.<br>\n",
    ">`class MyModel(db.Model)`<br>\n",
    "\n",
    "<br>\n",
    "All the models should be in a `models.py` file, in the app folder\n",
    "<br> <br>\n",
    "You can represent a model as a table, every row is a new object, and every column is an attribute.<br>\n",
    "To add attributes to the model, you need to add columns, represented by a <a href=\"https://docs.sqlalchemy.org/en/13/core/metadata.html#sqlalchemy.schema.Column\">Column</a> object. <br>\n",
    "The only required argument is the type of column<br><br>\n",
    "For example:<br>\n"
   ]
  },
  {
   "cell_type": "code",
   "execution_count": null,
   "metadata": {},
   "outputs": [],
   "source": [
    "from app import db\n",
    "\n",
    "class MyModel(db.Model):\n",
    "    \n",
    "    field1 = db.Column(db.String(64))\n",
    "    field2 = db.Column(db.Integer)\n"
   ]
  },
  {
   "cell_type": "markdown",
   "metadata": {},
   "source": [
    "### Adding arguments to the fields\n",
    "-  Adding a primary key: A primary key is a field that is filled automatically, it's a unique key that allows us to identify the object. It's an id.<br>\n",
    "`id = db.Column(db.Integer, primary_key=True)`\n",
    "-  Adding an index: We can add an argument that index the column, which allow us to sort our data by this column values.<br>\n",
    "`username = db.Column(db.String(64), index=True)`<br>\n",
    "-  Adding a default value: We can add a value in case this field is not filled at the creation, with the `default` argument.<br>\n",
    "`time = db.Column(db.DateTime, default=datetime.now)`<br>\n",
    "\n",
    "> You can add a `__repr__` function to your model to make the prints more clear"
   ]
  },
  {
   "cell_type": "markdown",
   "metadata": {},
   "source": [
    "***\n",
    "## Manage the real database \n",
    "\n",
    "Even if the database is an object in flask, it has to be a real file behind the scenes, flask commands allow us to manage it."
   ]
  },
  {
   "cell_type": "markdown",
   "metadata": {},
   "source": [
    "### `flask db` \n",
    "`$ flask db` is a flask db manager, there is a few important commands to know.\n",
    "-  `$ flask db init`, the first command that you need to run, it creates the database, you need to run it when it's the first time you use this database.\n",
    "-  `$ flask db migrate`, every time you make changes in the database structure, you need to migrate it, it updates the database structure but it doesn't apply those updates\n",
    "-  `$ flask db upgrade`, this time, flask update your changes and change the database structure"
   ]
  },
  {
   "cell_type": "markdown",
   "metadata": {},
   "source": [
    "*** \n",
    "## Add new objects to the database\n",
    "Once you have your Model class, you can create some objects very simply."
   ]
  },
  {
   "cell_type": "code",
   "execution_count": null,
   "metadata": {
    "scrolled": true
   },
   "outputs": [],
   "source": [
    "model1 = MyModel(field1=\"HelloWorld\", field2=1000)"
   ]
  },
  {
   "cell_type": "markdown",
   "metadata": {},
   "source": [
    "But this is just an object, you need to add it to the database.\n",
    "> Reminder, your database is represented by an object, here it's called `db`\n",
    "\n",
    "You can use some methods of the db object to add it to your database."
   ]
  },
  {
   "cell_type": "code",
   "execution_count": null,
   "metadata": {},
   "outputs": [],
   "source": [
    "db.session.add(model1)\n",
    "db.session.commit()"
   ]
  },
  {
   "cell_type": "markdown",
   "metadata": {},
   "source": [
    "`db.session.add` is just adding an object to the database object, but the real database will only be modified when `db.session.commit` is called.<br>\n",
    "Basically, `db.session.commit` is updating the real database with the virtual object"
   ]
  },
  {
   "cell_type": "markdown",
   "metadata": {},
   "source": [
    "If something went wrong, you can always use"
   ]
  },
  {
   "cell_type": "code",
   "execution_count": null,
   "metadata": {},
   "outputs": [],
   "source": [
    "db.session.rollback()"
   ]
  },
  {
   "cell_type": "markdown",
   "metadata": {},
   "source": [
    "You can also delete some objects from the database."
   ]
  },
  {
   "cell_type": "code",
   "execution_count": null,
   "metadata": {},
   "outputs": [],
   "source": [
    "db.delete(obj)"
   ]
  },
  {
   "cell_type": "markdown",
   "metadata": {},
   "source": [
    "***\n",
    "## Retrieve objects from the database\n",
    "Database objects have a `query` attribute that allow us to *query* the database (ask the database for some data).<br>\n",
    "\n",
    "### Retrieve every objects from a certain class\n",
    "`MyModel.query.all()` returns a list with every object of the Model `MyModel`\n",
    "\n",
    "### Retrieve a specific object \n",
    "You can retrieve a list of objects that fit a condition with `MyModel.query.filter_by(filter)`, for example `User.query.filter_by(username=\"Eyal\")` will retrieve a list of all users that have `Eyal` as username<br>\n",
    "To select one from this list, a lot of selectors are available <a href=\"\">here</a>, like `first()` or `first_or_404()`\n",
    "\n",
    "> A primary key is a unique \"id\" for every object, it can be defined in each column definition by the `primary_key=True` parameter."
   ]
  },
  {
   "cell_type": "markdown",
   "metadata": {},
   "source": [
    "# Conclusion\n",
    "\n",
    "-  `flask_sqlalchemy` and `flask_migrate` are both required to deal with databases, one for the database and the other for the structure.\n",
    "-  `SQLALCHEMY_DATABASE_URI` is required to implement the database in the app\n",
    "-  Database is built with `SQLAlchemy` class and migration with `Migrate` class."
   ]
  }
 ],
 "metadata": {
  "kernelspec": {
   "display_name": "Python 3",
   "language": "python",
   "name": "python3"
  },
  "language_info": {
   "codemirror_mode": {
    "name": "ipython",
    "version": 3
   },
   "file_extension": ".py",
   "mimetype": "text/x-python",
   "name": "python",
   "nbconvert_exporter": "python",
   "pygments_lexer": "ipython3",
   "version": "3.6.5"
  }
 },
 "nbformat": 4,
 "nbformat_minor": 2
}
