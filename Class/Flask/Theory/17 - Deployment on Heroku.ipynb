{
 "cells": [
  {
   "cell_type": "markdown",
   "metadata": {},
   "source": [
    "# Heroku\n",
    "Heroku is a Platform as a Service (A cloud platform) hosting that supports python. "
   ]
  },
  {
   "cell_type": "markdown",
   "metadata": {},
   "source": [
    "### Requirements to deploy your app on heroku\n",
    "\n",
    "To deploy on heroku, you first need to have a requirements.txt file, this is a file that define every module needed by your program. To automatically create one, you can install pipreqs (`pip install pipreqs`) and run `pipreqs .` in your project folder.  \n",
    "Your project needs also to be a git repository, you can do this by running `git init` in your project folder.  \n",
    "Now the last thing you need is a [heroku account](https://signup.heroku.com/)"
   ]
  },
  {
   "cell_type": "markdown",
   "metadata": {},
   "source": [
    "### Installing the Heroku Command Line\n",
    "To manage Heroku apps directly from the terminal, you can use the [Heroku CLI](https://devcenter.heroku.com/articles/heroku-cli). To verify your installation, type `heroku --version` in your terminal."
   ]
  },
  {
   "cell_type": "markdown",
   "metadata": {},
   "source": [
    "### Login \n",
    "Now that the CLI is installed, you need to login to your heroku account by typing:  \n",
    "`heroku login`   \n"
   ]
  },
  {
   "cell_type": "markdown",
   "metadata": {},
   "source": [
    "### Procfile\n",
    "\n",
    "The procfile is a file of commands that is executed when you run your server.  \n",
    "It needs to be created in the root directory of your application.  \n",
    "Here is the format of each line in the file:  \n",
    "\n",
    "```bash\n",
    "<process_name>: <command>\n",
    "```  \n",
    "\n",
    "To start a web application, the `process_name` should be `web`. If you need to add more than one command, just separate them with a semi-colon `;`.\n",
    "\n",
    "Here is an example of a procfile:\n"
   ]
  },
  {
   "cell_type": "raw",
   "metadata": {},
   "source": [
    "web: flask db upgrade"
   ]
  },
  {
   "cell_type": "markdown",
   "metadata": {},
   "source": [
    "### Create an app\n",
    "After you logged in, you can create an app by running:  \n",
    "```bash \n",
    "heroku apps:create <name_of_the_app>\n",
    "```\n",
    "> Be sure to be in your project folder when you run this, to do so, run `cd path/to/project`, to check your current folder, type `pwd` on linux and `echo %cd%` on windows"
   ]
  },
  {
   "cell_type": "markdown",
   "metadata": {},
   "source": [
    "### Create a database\n",
    "SQLite is good for developement, but shouldn't be used for deployed site. Instead of this, use other SQL databases like MySQL or PostgreSQL.  \n",
    "To install Postgres support on heroku, run this in your terminal:  \n",
    "```bash\n",
    "heroku addons:create heroku-postgresql:hobby-dev\n",
    "```  \n",
    "The path to the database will be stored in the `DATABASE_URL` environnement variable, thus we can delete the `SQL_DATABASE_URI` from the config.  \n",
    "To work with postgres, you need a little module, called psycopg2, to install it, run `pip install psycopg2` (if the installation doesn't work, that's ok, anyway it was not supposed to run on your local computer, heroku will install it)\n",
    "> Don't forget to put psycopg2 in your requirements file\n",
    "\n"
   ]
  },
  {
   "cell_type": "markdown",
   "metadata": {},
   "source": [
    "### Logs\n",
    "\n",
    "Logs are records of your program's output, when you have a weird behavior, you take a look at the logs to understand what happened (it's the output you see on your terminal while running your flask app).  \n",
    "You can run `heroku logs` to retrieve them."
   ]
  },
  {
   "cell_type": "markdown",
   "metadata": {},
   "source": [
    "### Create an environnement variable\n",
    "Sometimes you need to create a new environnement variable (like `FLASK_APP` if your application isn't named `app.py` or `wsgi.py`), to do so in heroku, just run \n",
    "```bash \n",
    "heroku config:set <variable_name>=<variable_value>\n",
    "``` "
   ]
  },
  {
   "cell_type": "markdown",
   "metadata": {},
   "source": [
    "### Creating a web server\n",
    "A web server is a program that manage HTTP requests, we already know how to create one. Actually we run a web server each time we run `flask run`, but this web server is not good for production because it's not optimized.  \n",
    "Thus we will use another python web server, that is also very popular, called gunicorn (to install: `pip install gunicorn`).  \n",
    "To run a flask application with gunicorn on heroku, you need to run this command:  \n",
    "```bash\n",
    "gunicorn <module_name>:<app_name>\n",
    "```  \n",
    "\n",
    "This command should probably be in the procfile, on my computer, my app is called `pyblog` and sits in a directory called `pyblog_project`, so my procfile becomes:\n"
   ]
  },
  {
   "cell_type": "raw",
   "metadata": {},
   "source": [
    "web: flask db upgrade; gunicorn pyblog_project:pyblog"
   ]
  },
  {
   "cell_type": "markdown",
   "metadata": {},
   "source": [
    "### Deploy !\n",
    "\n",
    "Here it is, the final step !  \n",
    "\n",
    "To send your app to the server, you need nothing more than git.  \n",
    "First, be sure to add all your changes with  \n",
    "```bash\n",
    "git add .\n",
    "git commit -m \"heroku deployment\"\n",
    "```   \n",
    "\n",
    "And then push it to the heroku server, heroku automatically adds the server as a remote repository, with `heroku` as label, so just run:  \n",
    "```bash \n",
    "git push heroku master\n",
    "```  \n",
    "\n",
    "Here you are, your server is running, run `heroku logs` to see the output of your app."
   ]
  },
  {
   "cell_type": "raw",
   "metadata": {},
   "source": [
    "   _____                 _     _       _       _ \n",
    "  / ____|               | |   (_)     | |     | |\n",
    " | |  __  ___   ___   __| |    _  ___ | |__   | |\n",
    " | | |_ |/ _ \\ / _ \\ / _` |   | |/ _ \\| '_ \\  | |\n",
    " | |__| | (_) | (_) | (_| |   | | (_) | |_) | |_|\n",
    "  \\_____|\\___/ \\___/ \\__,_|   | |\\___/|_.__/  (_)\n",
    "                             _/ |                \n",
    "                            |__/                 "
   ]
  }
 ],
 "metadata": {
  "kernelspec": {
   "display_name": "Python 3",
   "language": "python",
   "name": "python3"
  },
  "language_info": {
   "codemirror_mode": {
    "name": "ipython",
    "version": 3
   },
   "file_extension": ".py",
   "mimetype": "text/x-python",
   "name": "python",
   "nbconvert_exporter": "python",
   "pygments_lexer": "ipython3",
   "version": "3.6.5"
  }
 },
 "nbformat": 4,
 "nbformat_minor": 2
}
