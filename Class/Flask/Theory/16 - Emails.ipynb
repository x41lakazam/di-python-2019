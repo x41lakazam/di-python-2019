{
 "cells": [
  {
   "cell_type": "markdown",
   "metadata": {},
   "source": [
    "# Send emails with flask-mail\n",
    "### Before anything: install flask-mail"
   ]
  },
  {
   "cell_type": "raw",
   "metadata": {},
   "source": [
    "$ pip install flask-mail"
   ]
  },
  {
   "cell_type": "markdown",
   "metadata": {},
   "source": [
    "### First\n",
    "You need to set a bunch of config in your app  \n"
   ]
  },
  {
   "cell_type": "code",
   "execution_count": null,
   "metadata": {},
   "outputs": [],
   "source": [
    "app.config['MAIL_SERVER']     = 'smtp.gmail.com'\n",
    "app.config['MAIL_PORT']       = 587\n",
    "app.config['MAIL_USE_TLS']    = True\n",
    "app.config['MAIL_USE_SSL']    = False\n",
    "app.config['MAIL_USERNAME']   = 'awetandtesfit@gmail.com'\n",
    "app.config['MAIL_PASSWORD']   = 'Micheal79'"
   ]
  },
  {
   "cell_type": "markdown",
   "metadata": {},
   "source": [
    "> You need to allow less secure apps on your google account for this to work, to do so, follow this link:\n",
    "> https://myaccount.google.com/lesssecureapps\n"
   ]
  },
  {
   "cell_type": "markdown",
   "metadata": {},
   "source": [
    "# Create an email manager with flask_mail\n",
    "\n",
    "flask_mail provide a `Mail` class that allow you to send mails.<br>\n",
    "\n",
    "<small>In the __init__.py</small>"
   ]
  },
  {
   "cell_type": "code",
   "execution_count": null,
   "metadata": {},
   "outputs": [],
   "source": [
    "# ...\n",
    "import flask_mail\n",
    "\n",
    "# ...\n",
    "\n",
    "app = flask.Flask(__name__)\n",
    "# define the mail object\n",
    "mail = flask_mail.Mail(app)\n",
    "\n",
    "# ..."
   ]
  },
  {
   "cell_type": "markdown",
   "metadata": {},
   "source": [
    "# Send an email\n",
    "\n",
    "To send an email, you first need to create the message object"
   ]
  },
  {
   "cell_type": "code",
   "execution_count": null,
   "metadata": {
    "scrolled": true
   },
   "outputs": [],
   "source": [
    "msg = flask_mail.Message('subject', \n",
    "                         sender='mymail@gmail.com', \n",
    "                         recipients=['receiver1@example.com', \n",
    "                                     'receiver2@example.com'])"
   ]
  },
  {
   "cell_type": "markdown",
   "metadata": {},
   "source": [
    "And then add some content to the mail, you can add text content or HTML content"
   ]
  },
  {
   "cell_type": "code",
   "execution_count": null,
   "metadata": {
    "scrolled": true
   },
   "outputs": [],
   "source": [
    "msg.body = 'text body'\n",
    "msg.html = '<h1>HTML body</h1>'"
   ]
  },
  {
   "cell_type": "markdown",
   "metadata": {},
   "source": [
    "To send the message, you need to use the `send` function of the mail manager"
   ]
  },
  {
   "cell_type": "code",
   "execution_count": null,
   "metadata": {},
   "outputs": [],
   "source": [
    "mail.send(msg)"
   ]
  },
  {
   "cell_type": "markdown",
   "metadata": {},
   "source": [
    "We can add every mailing functions in an `mailing.py` file."
   ]
  },
  {
   "cell_type": "code",
   "execution_count": null,
   "metadata": {},
   "outputs": [],
   "source": [
    "def send_email(subject, sender, recipients, text_body, html_body):\n",
    "    msg = Message(subject, sender=sender, recipients=recipients)\n",
    "    msg.body = text_body\n",
    "    msg.html = html_body\n",
    "    mail.send(msg)\n",
    "    "
   ]
  },
  {
   "cell_type": "markdown",
   "metadata": {},
   "source": [
    "> You can render a template and send it by email"
   ]
  },
  {
   "cell_type": "markdown",
   "metadata": {},
   "source": [
    "# Add a \"lost password\" function"
   ]
  },
  {
   "cell_type": "markdown",
   "metadata": {},
   "source": [
    "### First: let's create a function to send the email\n",
    "We could create a function like this:"
   ]
  },
  {
   "cell_type": "code",
   "execution_count": null,
   "metadata": {},
   "outputs": [],
   "source": [
    "def send_password_reset_email(user):\n",
    "    send_email('Password reset',\n",
    "               sender=\"mymail@gmail.com\",\n",
    "               recipients=[user.email],\n",
    "               text_body=flask.render_template('email/reset_password.txt', user=user),\n",
    "               html_body=flask.render_template('email/reset_password.html', user=user)"
   ]
  },
  {
   "cell_type": "markdown",
   "metadata": {},
   "source": [
    "But the problem is, we can't identify if the person that is requesting is actually the user, we need to use a token. A token is a little encoded string, that will only belong to the user.<Br>\n",
    "<a href=\"https://pyjwt.readthedocs.io/en/latest/\">`pyJWT`</a> is a library that provide some functions to deal with tokens, with this library, we can encode some data with a key.\n",
    "> JWT stands for <a href=\"https://en.wikipedia.org/wiki/JSON_Web_Token\">Json Web Token</a>\n",
    "    \n",
    "The key we will use to encode the payload will be our secret key.<br>\n",
    "We need the `jwt.encode` function to create an encoded token.<br>\n",
    "Let's implement a function that create a token in our user model:<br>\n",
    "<br>\n",
    "<small>In User model:</small>"
   ]
  },
  {
   "cell_type": "code",
   "execution_count": null,
   "metadata": {},
   "outputs": [],
   "source": [
    "import time\n",
    "import jwt\n",
    "#class User(...):\n",
    "    #...\n",
    "    def get_reset_password_token(self, expires_in=600):\n",
    "        timeout = time.time() + expires_in\n",
    "        payload = {\n",
    "            'reset_password': self.id,\n",
    "            'exp': timeout\n",
    "        }\n",
    "        \n",
    "        # Get the secret key from config\n",
    "        secret_key = app.config['SECRET_KEY']\n",
    "        \n",
    "        # Create the token\n",
    "        token = jwt.encode(payload, secret_key, algorithm=\"HS256\")\n",
    "        \n",
    "        # Turn it to string\n",
    "        s_token = token.decode('utf-8')\n",
    "        \n",
    "        return s_token\n"
   ]
  },
  {
   "cell_type": "markdown",
   "metadata": {},
   "source": [
    "We can now update our `send_password_reset_email` function"
   ]
  },
  {
   "cell_type": "code",
   "execution_count": null,
   "metadata": {},
   "outputs": [],
   "source": [
    "def send_password_reset_email(user):\n",
    "    token = user.get_reset_password_token()\n",
    "    send_email('Password reset',\n",
    "               sender=\"mymail@gmail.com\",\n",
    "               recipients=[user.email],\n",
    "               text_body=flask.render_template('email/reset_password.txt', user=user, token=token),\n",
    "               html_body=flask.render_template('email/reset_password.html', user=user, token=token))"
   ]
  },
  {
   "cell_type": "markdown",
   "metadata": {},
   "source": [
    "This token is supposed to allow us to identify the user that its's linked to.<Br>\n",
    "We also need to add a function to verify this token.<br>\n",
    "<br>\n",
    "<small>In the User model:</small>\n"
   ]
  },
  {
   "cell_type": "code",
   "execution_count": null,
   "metadata": {},
   "outputs": [],
   "source": [
    "import time\n",
    "import jwt\n",
    "\n",
    "#class User(...):\n",
    "    #...\n",
    "    def get_reset_password_token(self, expires_in=600):\n",
    "        timeout = time.time() + expires_in\n",
    "        payload = {\n",
    "            'reset_password': self.id,\n",
    "            'exp': timeout\n",
    "        }\n",
    "        \n",
    "        # Get the secret key from config\n",
    "        secret_key = app.config['SECRET_KEY']\n",
    "        \n",
    "        # Create the token\n",
    "        token = jwt.encode(payload)\n",
    "        \n",
    "        # Turn it to string\n",
    "        s_token = token.decode('utf-8')\n",
    "        \n",
    "        return s_token\n",
    "\n",
    "    def verify_reset_password_token(self, token):\n",
    "        try:\n",
    "            id = jwt.decode(token, app.config['SECRET_KEY'],\n",
    "                            algorithms=['HS256'])['reset_password']\n",
    "        except:\n",
    "            return\n",
    "        return User.query.get(id)"
   ]
  },
  {
   "cell_type": "markdown",
   "metadata": {},
   "source": [
    "### Now, let's create the templates for the function"
   ]
  },
  {
   "cell_type": "markdown",
   "metadata": {},
   "source": [
    "Let's create the two templates for text and html body\n",
    "<br>\n",
    "<small>reset_password.txt:</small>"
   ]
  },
  {
   "cell_type": "raw",
   "metadata": {},
   "source": [
    "Dear {{ user.username }},\n",
    "\n",
    "To reset your password click on the following link:\n",
    "\n",
    "{{ url_for('reset_password') }}\n",
    "\n",
    "If you have not requested a password reset simply ignore this message."
   ]
  },
  {
   "cell_type": "markdown",
   "metadata": {},
   "source": [
    "And the html template\n",
    "<br>\n",
    "<small>reset_password.html:</small>"
   ]
  },
  {
   "cell_type": "raw",
   "metadata": {},
   "source": [
    "<p>Dear {{ user.username }},</p>\n",
    "<p>\n",
    "    To reset your password\n",
    "    <a href=\"{{ url_for('reset_password') }}\">\n",
    "        click here\n",
    "    </a>.\n",
    "</p>\n",
    "<p>Alternatively, you can paste the following link in your browser's address bar:</p>\n",
    "<p>{{ url_for('reset_password', token=token, _external=True) }}</p>\n",
    "<p>If you have not requested a password reset simply ignore this message.</p>"
   ]
  },
  {
   "cell_type": "markdown",
   "metadata": {},
   "source": [
    "### Step 2: let's create a form to request the mail"
   ]
  },
  {
   "cell_type": "markdown",
   "metadata": {},
   "source": [
    "This page requires a form, so we need a form, a template and a route:<br>\n",
    "<br>\n",
    "<small>Form:</small>"
   ]
  },
  {
   "cell_type": "code",
   "execution_count": null,
   "metadata": {},
   "outputs": [],
   "source": [
    "class ResetPasswordRequestForm(FlaskForm):\n",
    "    email = StringField('Email', validators=[DataRequired(), Email()])\n",
    "    submit = SubmitField('Request Password Reset')"
   ]
  },
  {
   "cell_type": "markdown",
   "metadata": {},
   "source": [
    "<small>Template:</small>"
   ]
  },
  {
   "cell_type": "raw",
   "metadata": {},
   "source": [
    "{% extends \"base.html\" %}\n",
    "\n",
    "{% block content %}\n",
    "    <h1>Reset Password</h1>\n",
    "    <form action=\"\" method=\"post\">\n",
    "        {{ form.hidden_tag() }}\n",
    "        <p>\n",
    "            {{ form.email.label }}<br>\n",
    "            {{ form.email(size=64) }}<br>\n",
    "            {% for error in form.email.errors %}\n",
    "            <span style=\"color: red;\">[{{ error }}]</span>\n",
    "            {% endfor %}\n",
    "        </p>\n",
    "        <p>{{ form.submit() }}</p>\n",
    "    </form>\n",
    "{% endblock %}"
   ]
  },
  {
   "cell_type": "markdown",
   "metadata": {},
   "source": [
    "<small>Route:</small>"
   ]
  },
  {
   "cell_type": "code",
   "execution_count": null,
   "metadata": {},
   "outputs": [],
   "source": [
    "from app import forms, mailing\n",
    "\n",
    "@app.route('/reset_password_request', methods=['GET', 'POST'])\n",
    "def reset_password_request():\n",
    "    \n",
    "    if current_user.is_authenticated:\n",
    "        return redirect(url_for('index'))\n",
    "    \n",
    "    form = forms.ResetPasswordRequestForm()\n",
    "    \n",
    "    if form.validate_on_submit():\n",
    "        user = User.query.filter_by(email=form.email.data).first()\n",
    "        \n",
    "        if user:\n",
    "            mailing.send_password_reset_email(user)\n",
    "            \n",
    "        flash('An email has been sent')  \n",
    "        return redirect(url_for('login'))\n",
    "    return render_template('reset_password_request.html', title='Reset Password', form=form)"
   ]
  },
  {
   "cell_type": "markdown",
   "metadata": {},
   "source": [
    "### Step 3: When the user has clicked on the mail, he needs to get to a Reset password form"
   ]
  },
  {
   "cell_type": "markdown",
   "metadata": {},
   "source": [
    "Form:"
   ]
  },
  {
   "cell_type": "code",
   "execution_count": null,
   "metadata": {},
   "outputs": [],
   "source": [
    "class ResetPasswordForm(FlaskForm):\n",
    "    password = wtforms.PasswordField('Password', validators=[DataRequired()])\n",
    "    confirm  = wtforms.PasswordField('Confirm Password', validators=[validators.DataRequired(), validators.EqualTo('password')])\n",
    "    submit = wtforms.SubmitField('Request Password Reset')"
   ]
  },
  {
   "cell_type": "markdown",
   "metadata": {},
   "source": [
    "Template:"
   ]
  },
  {
   "cell_type": "raw",
   "metadata": {},
   "source": [
    "{% extends \"base.html\" %}\n",
    "\n",
    "{% block content %}\n",
    "    <h1>Reset Your Password</h1>\n",
    "    <form action=\"\" method=\"post\">\n",
    "        {{ form.hidden_tag() }}\n",
    "        <p>\n",
    "            {{ form.password.label }}<br>\n",
    "            {{ form.password(size=32) }}<br>\n",
    "            {% for error in form.password.errors %}\n",
    "            <span style=\"color: red;\">[{{ error }}]</span>\n",
    "            {% endfor %}\n",
    "        </p>\n",
    "        <p>\n",
    "            {{ form.password2.label }}<br>\n",
    "            {{ form.password2(size=32) }}<br>\n",
    "            {% for error in form.password2.errors %}\n",
    "            <span style=\"color: red;\">[{{ error }}]</span>\n",
    "            {% endfor %}\n",
    "        </p>\n",
    "        <p>{{ form.submit() }}</p>\n",
    "    </form>\n",
    "{% endblock %}"
   ]
  },
  {
   "cell_type": "markdown",
   "metadata": {},
   "source": [
    "# That's it !"
   ]
  },
  {
   "cell_type": "markdown",
   "metadata": {},
   "source": [
    "---"
   ]
  },
  {
   "cell_type": "markdown",
   "metadata": {},
   "source": [
    "> You can send your mail as a thread if it slows down your application"
   ]
  },
  {
   "cell_type": "code",
   "execution_count": null,
   "metadata": {},
   "outputs": [],
   "source": []
  }
 ],
 "metadata": {
  "kernelspec": {
   "display_name": "Python 3",
   "language": "python",
   "name": "python3"
  },
  "language_info": {
   "codemirror_mode": {
    "name": "ipython",
    "version": 3
   },
   "file_extension": ".py",
   "mimetype": "text/x-python",
   "name": "python",
   "nbconvert_exporter": "python",
   "pygments_lexer": "ipython3",
   "version": "3.7.4"
  }
 },
 "nbformat": 4,
 "nbformat_minor": 2
}
